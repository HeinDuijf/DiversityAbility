{
 "cells": [
  {
   "cell_type": "markdown",
   "id": "52b2b5ff",
   "metadata": {},
   "source": [
    "# Diversity and Ability\n",
    "This jupyter notebook demonstrates how the agent-based model (ABM) of group decision-making by walking you through the stages of the model. The idea is that the group faces a binary choice problem and each individual has access to a number of imperfect sources to guide their individual decision-making. The main components of the agent-based model are: \n",
    "\n",
    "1. **Sources.** Each ABM consists of a set of sources. Each source has a certain reliability (typically, $\\geq 0.5$), which represents the probability that it produces evidence that supports the correct alternative.  \n",
    "2. **Agents.** Each agent in the ABM is connected to a number of sources, which determine the agent's decisions. The basic idea is that agents follow the majority of the evidences available to them. \n",
    "3. **Teams.** A team is a set of agents. The team decision-making follows the majority rule, so that the team picks the alternative that most team members think is best. \n",
    "\n",
    "In particular, an instantiation of the agent-based model, called `Community`, consists of the following building blocks:\n",
    "- A set of sources $S$,\n",
    "- For each source $s \\in S$:\n",
    "    - Its reliability $p_s$\n",
    "- A set of agents $N$,\n",
    "- For each agent $i \\in N$:\n",
    "    - A set of sources $S_i \\subseteq S$ that she has access to. \n",
    "\n",
    "In future work, I plan to also include more complicated versions of group decision-making (other than majority rule) by including influence networks. "
   ]
  },
  {
   "cell_type": "markdown",
   "id": "6b6c60a4",
   "metadata": {
    "jp-MarkdownHeadingCollapsed": true,
    "tags": []
   },
   "source": [
    "## 0. Initialization\n",
    "We start with loading some packages and scripts:"
   ]
  },
  {
   "cell_type": "code",
   "execution_count": 6,
   "id": "ffc86589",
   "metadata": {},
   "outputs": [],
   "source": [
    "%run utils/notebook.py"
   ]
  },
  {
   "cell_type": "markdown",
   "id": "2b93b39f",
   "metadata": {},
   "source": [
    "## 1. A simple example\n",
    "### 1.0 Initial stage\n",
    "Let us start with considering a simple example of a community with only 20 agents. More explicitly, we set the parameters as follows:\n",
    "- A set of 21 sources $S=\\{s_1, \\ldots, s_{21}\\}$,\n",
    "- A set of 21 agents $N=\\{0, \\ldots, 20\\}$,\n",
    "- For each agent $i \\in N$:\n",
    "    - Her sources $S_i \\subseteq S$ (where $|S_i|=5$). \n",
    "\n",
    "The simple community is depicted in the picture below. Let me explain the picture:\n",
    "- Nodes:\n",
    "    - The initial color of the nodes represents whether they are <font color=\"teal\">sources</font> or <font color=\"darkorange\">agents</font>.\n",
    "    - <font color=\"teal\">Sources</font>:\n",
    "        - The size of the sources is proportional to their reliability, so that bigger sources are more reliable.\n",
    "        - The sources are ordered from left to right from most to least accessed.\n",
    "    - <font color=\"darkorange\">Agents</font>:\n",
    "        - All agents have the same size.\n",
    "        - The ordering of the agents is random. \n",
    "- Edges:\n",
    "    - The *edges* represent the agents' **sources**: these are the set of target sources of all outgoing edges. Accordingly, every agent has out-degree 5.\n",
    "    - Hence, sources with higher in-degrees have more influence on the team decision-making. \n",
    "    - The color of an edge represents the color of the associated source. \n",
    "    \n",
    "All the pictures are **interactive**: if you click on a source or agent, the connected nodes are highlighted, and you can move nodes around!"
   ]
  },
  {
   "cell_type": "code",
   "execution_count": 11,
   "id": "18dc9931",
   "metadata": {
    "collapsed": true,
    "jupyter": {
     "outputs_hidden": true,
     "source_hidden": true
    },
    "scrolled": true,
    "tags": []
   },
   "outputs": [
    {
     "data": {
      "text/plain": [
       "-1"
      ]
     },
     "execution_count": 11,
     "metadata": {},
     "output_type": "execute_result"
    }
   ],
   "source": [
    "community = Community(\n",
    "    number_of_agents=21,\n",
    "    number_of_sources=21,\n",
    "    sources_reliability_range=(0.5, 0.7),\n",
    "    source_degree=5,\n",
    "    influence_degree=4,\n",
    ")\n",
    "community.vote()"
   ]
  },
  {
   "cell_type": "code",
   "execution_count": 12,
   "id": "97831f6e-507e-408c-b589-f32702104855",
   "metadata": {},
   "outputs": [
    {
     "name": "stdout",
     "output_type": "stream",
     "text": [
      "www/community_initial.html\n"
     ]
    },
    {
     "data": {
      "text/html": [
       "\n",
       "        <iframe\n",
       "            width=\"100%\"\n",
       "            height=\"500px\"\n",
       "            src=\"www/community_initial.html\"\n",
       "            frameborder=\"0\"\n",
       "            allowfullscreen\n",
       "            \n",
       "        ></iframe>\n",
       "        "
      ],
      "text/plain": [
       "<IPython.lib.display.IFrame at 0x1e4f8eb6f70>"
      ]
     },
     "execution_count": 12,
     "metadata": {},
     "output_type": "execute_result"
    }
   ],
   "source": [
    "visualize(community, coloring=\"initial\").show(\"www/community_initial.html\")"
   ]
  },
  {
   "cell_type": "markdown",
   "id": "e6c02566",
   "metadata": {},
   "source": [
    "### 1.1 Source valences\n",
    "In the first stage, the valence of each source $s\\in S$ is probabilistically determined by its reliability $p_s$. The color of the *sources* represents whether their piece of **evidence** has the <font color=\"forestgreen\">**correct**</font> or <font color=\"firebrick\">**incorrect**</font> valence, i.e., supports <font color=\"forestgreen\">**correct**</font> or <font color=\"firebrick\">**incorrect**</font> alternative.\n",
    "\n",
    "In the second stage, each agent $i$ forms their opinion based on the evidences from their sources $S_i$. The color of the *agents* represents whether their **opinion** supports the <font color=\"forestgreen\">**correct**</font> or <font color=\"firebrick\">**incorrect**</font> alternative.\n",
    "\n",
    "In the third stage, the team forms their collective decision by following the majority rule. \n",
    "\n",
    "Let's see how this goes in the artificial community. Did any source have the wrong valence? Can you figure out why? Can you predict some of the agent's opinions?"
   ]
  },
  {
   "cell_type": "code",
   "execution_count": 8,
   "id": "e621cb00",
   "metadata": {
    "jupyter": {
     "source_hidden": true
    },
    "tags": []
   },
   "outputs": [
    {
     "name": "stdout",
     "output_type": "stream",
     "text": [
      "www/community_sources.html\n"
     ]
    },
    {
     "data": {
      "text/html": [
       "\n",
       "        <iframe\n",
       "            width=\"100%\"\n",
       "            height=\"500px\"\n",
       "            src=\"www/community_sources.html\"\n",
       "            frameborder=\"0\"\n",
       "            allowfullscreen\n",
       "            \n",
       "        ></iframe>\n",
       "        "
      ],
      "text/plain": [
       "<IPython.lib.display.IFrame at 0x1e4f8e1dfd0>"
      ]
     },
     "execution_count": 8,
     "metadata": {},
     "output_type": "execute_result"
    }
   ],
   "source": [
    "visualize(com=community, coloring=\"sources\", ).show(\"www/community_sources.html\")"
   ]
  },
  {
   "cell_type": "markdown",
   "id": "69e8fc4c",
   "metadata": {},
   "source": [
    "### 1.2 Agent opinions\n",
    "Let us consider the opinions of the agents in this artificial community. As mentioned before, the color of the *agents* represents whether their **opinion** favours the <font color=\"forestgreen\">**correct**</font> or <font color=\"firebrick\">**incorrect**</font> alternative.\n",
    "\n",
    "Let's see how this goes in the simple community. Did anyone form the wrong opinion? Can you figure out why?"
   ]
  },
  {
   "cell_type": "code",
   "execution_count": 9,
   "id": "96db2e96",
   "metadata": {
    "jupyter": {
     "source_hidden": true
    },
    "tags": []
   },
   "outputs": [
    {
     "name": "stdout",
     "output_type": "stream",
     "text": [
      "www/community_agents.html\n"
     ]
    },
    {
     "data": {
      "text/html": [
       "\n",
       "        <iframe\n",
       "            width=\"100%\"\n",
       "            height=\"500px\"\n",
       "            src=\"www/community_agents.html\"\n",
       "            frameborder=\"0\"\n",
       "            allowfullscreen\n",
       "            \n",
       "        ></iframe>\n",
       "        "
      ],
      "text/plain": [
       "<IPython.lib.display.IFrame at 0x1e4f370ce20>"
      ]
     },
     "execution_count": 9,
     "metadata": {},
     "output_type": "execute_result"
    }
   ],
   "source": [
    "visualize(com=community, coloring=\"agents\").show(\"www/community_agents.html\")"
   ]
  },
  {
   "cell_type": "markdown",
   "id": "3957bf3a",
   "metadata": {},
   "source": [
    "### 1.3 The group decision\n",
    "The outcome is probably no surprise to you at this point, but let's determine the team's collective decision:"
   ]
  },
  {
   "cell_type": "code",
   "execution_count": 10,
   "id": "c671af81",
   "metadata": {},
   "outputs": [
    {
     "name": "stdout",
     "output_type": "stream",
     "text": [
      "Correct: 13 | Incorrect: 8\n"
     ]
    }
   ],
   "source": [
    "correct_opinions = sum(\n",
    "    [1 for agent in community.agents if community.influence_network.nodes[agent][cfg.agent_opinion] == cfg.vote_for_positive]\n",
    ")\n",
    "incorrect_opinions = community.number_of_agents - correct_opinions\n",
    "print(f\"Correct: {correct_opinions} | Incorrect: {incorrect_opinions}\")"
   ]
  },
  {
   "cell_type": "markdown",
   "id": "d467d175",
   "metadata": {},
   "source": [
    "## 2 Different teams\n",
    "In this repository we consider three types of teams:\n",
    "1. Teams consisting of the best-performing agents;\n",
    "2. Teams consisting of a (cognitively) diverse set of agents;\n",
    "3. Teams consisting of a randomly selected agents. \n",
    "\n",
    "As mentioned earlier, each agent is associated with a set of sources. We assume that all agents access the same number of sources, typically 5.\n",
    "\n",
    "Instead of investigating a particular community, these teams are constructed for a given set of sources and their reliabilities.  More precisely, the task for constructing the team of best-performing agents is as follows:\n",
    "```commandline \n",
    "Input 1: A set of sources and their reliabilities.\n",
    "Input 2: A group size.\n",
    "Input 3: A number of sources that each agent accesses.\n",
    "---\n",
    "> Output: The team of the required size consisting of the best-performing agents out of all possible agents.\n",
    "```\n",
    "\n",
    "Once a team has been constructed, the team decision-making works as illustrated in Section 1. "
   ]
  },
  {
   "cell_type": "markdown",
   "id": "9f631a77",
   "metadata": {},
   "source": [
    "## 3. Thanks\n",
    "I hope this brief illustration helped to understand the inner workings of the agent-based model. Thanks for showing interest!"
   ]
  }
 ],
 "metadata": {
  "kernelspec": {
   "display_name": "Python 3 (ipykernel)",
   "language": "python",
   "name": "python3"
  },
  "language_info": {
   "codemirror_mode": {
    "name": "ipython",
    "version": 3
   },
   "file_extension": ".py",
   "mimetype": "text/x-python",
   "name": "python",
   "nbconvert_exporter": "python",
   "pygments_lexer": "ipython3",
   "version": "3.9.12"
  }
 },
 "nbformat": 4,
 "nbformat_minor": 5
}
