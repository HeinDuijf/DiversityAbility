{
 "cells": [
  {
   "cell_type": "markdown",
   "id": "52b2b5ff",
   "metadata": {},
   "source": [
    "# Diversity and Ability\n",
    "This jupyter notebook demonstrates how the agent-based model (ABM) of group decision-making by walking you through the stages of the model. The idea is that the group faces a binary choice problem and each individual has access to a number of imperfect sources to guide their individual decision-making. The main components of the agent-based model are: \n",
    "\n",
    "1. **Sources.** Each ABM consists of a set of sources. Each source has a certain reliability (typically, $\\geq 0.5$), which represents the probability that it produces evidence that supports the correct alternative.  \n",
    "2. **Agents.** Each agent in the ABM is connected to a number of sources, which determine the agent's decisions. The basic idea is that agents follow the majority of the evidences available to them. \n",
    "3. **Teams.** A team is a set of agents. The team decision-making follows the majority rule, i.e., the team picks the alternative that most team members think is best. \n",
    "\n",
    "In particular, an instantiation of the agent-based model, called `Team`, consists of the following building blocks:\n",
    "- A set of sources $S$,\n",
    "- For each source $s \\in S$, its reliability $p_s$\n",
    "- A set of agents $N$,\n",
    "- For each agent $i \\in N$, a set of sources $S_i \\subseteq S$ that she has access to. \n",
    "\n",
    "In future work, I plan to also include more complicated versions of group decision-making (other than majority rule) by including influence networks. "
   ]
  },
  {
   "cell_type": "markdown",
   "id": "6b6c60a4",
   "metadata": {
    "tags": []
   },
   "source": [
    "## 0. Initialization\n",
    "We start with loading some packages and scripts:"
   ]
  },
  {
   "cell_type": "code",
   "execution_count": 1,
   "id": "ffc86589",
   "metadata": {},
   "outputs": [],
   "source": [
    "%run utils/notebook.py"
   ]
  },
  {
   "cell_type": "markdown",
   "id": "2b93b39f",
   "metadata": {},
   "source": [
    "## 1. A simple example\n",
    "### 1.0 Initial stage\n",
    "Let us start with considering a simple example of a team of 9 agents. More explicitly, we set the parameters as follows:\n",
    "- A set of 21 sources $S=\\{s_1, \\ldots, s_{21}\\}$,\n",
    "- A set of 9 agents $N=\\{0, \\ldots, 8\\}$,\n",
    "- For each agent $i \\in N$:\n",
    "    - Her sources $S_i \\subseteq S$ (where $|S_i|=5$). \n",
    "\n",
    "The simple team is depicted in the picture below. Let me explain the picture:\n",
    "- Nodes:\n",
    "    - The initial color of the nodes represents whether they are <font color=\"teal\">sources</font> or <font color=\"darkorange\">agents</font>.\n",
    "    - <font color=\"teal\">Sources</font>:\n",
    "        - The size of the sources is proportional to their reliability, so that bigger sources are more reliable.\n",
    "        - The sources are ordered from left to right from most to least accessed. Equally accessed sources are ordered from left to right from most to least reliable. \n",
    "    - <font color=\"darkorange\">Agents</font>:\n",
    "        - The size and ordering of the agents conveys no information. \n",
    "- Edges:\n",
    "    - The *edges* represent the agents' **sources**: these are the set of targets of the outgoing edges. Accordingly, every agent has out-degree 5.\n",
    "    - Hence, sources with higher in-degrees have more influence on the team decision-making. \n",
    "    - The color of an edge represents the color of the associated source. \n",
    "    \n",
    "All the pictures are **interactive**: if you click on a source or agent, the connected nodes are highlighted, and you can move nodes around!"
   ]
  },
  {
   "cell_type": "code",
   "execution_count": 20,
   "id": "18dc9931",
   "metadata": {
    "scrolled": true,
    "tags": []
   },
   "outputs": [],
   "source": [
    "sources = Sources(\n",
    "    n_sources=17, \n",
    "    reliability_distribution=(\"equi\", (0.5, 0.7)),\n",
    ")\n",
    "team = random_team(\n",
    "    sources=sources,\n",
    "    heuristic_size=5,\n",
    "    team_size=9,\n",
    ")\n",
    "team.update_opinions()"
   ]
  },
  {
   "cell_type": "code",
   "execution_count": 21,
   "id": "97831f6e-507e-408c-b589-f32702104855",
   "metadata": {
    "tags": []
   },
   "outputs": [
    {
     "name": "stdout",
     "output_type": "stream",
     "text": [
      "www/team_initial.html\n"
     ]
    },
    {
     "data": {
      "text/html": [
       "\n",
       "        <iframe\n",
       "            width=\"100%\"\n",
       "            height=\"200px\"\n",
       "            src=\"www/team_initial.html\"\n",
       "            frameborder=\"0\"\n",
       "            allowfullscreen\n",
       "            \n",
       "        ></iframe>\n",
       "        "
      ],
      "text/plain": [
       "<IPython.lib.display.IFrame at 0x1d0797fbaa0>"
      ]
     },
     "execution_count": 21,
     "metadata": {},
     "output_type": "execute_result"
    }
   ],
   "source": [
    "visualize(team, coloring=\"initial\").show(\"www/team_initial.html\")"
   ]
  },
  {
   "cell_type": "markdown",
   "id": "e6c02566",
   "metadata": {},
   "source": [
    "### 1.1 Source valences\n",
    "In the first stage, the valence of each source $s\\in S$ is probabilistically determined by its reliability $p_s$. The color of the *sources* represents whether their piece of **evidence** has the <font color=\"forestgreen\">**correct**</font> or <font color=\"firebrick\">**incorrect**</font> valence, i.e., supports <font color=\"forestgreen\">**correct**</font> or <font color=\"firebrick\">**incorrect**</font> alternative.\n",
    "\n",
    "In the second stage, each agent $i$ forms their opinion based on the evidences from their sources $S_i$. The color of the *agents* represents whether their **opinion** supports the <font color=\"forestgreen\">**correct**</font> or <font color=\"firebrick\">**incorrect**</font> alternative.\n",
    "\n",
    "In the third stage, the team forms their collective decision by following the majority rule. \n",
    "\n",
    "Let's see how this goes in the artificial team. Did any source have the wrong valence? Can you figure out why? Can you predict some of the agent's opinions?"
   ]
  },
  {
   "cell_type": "code",
   "execution_count": 22,
   "id": "e621cb00",
   "metadata": {
    "tags": []
   },
   "outputs": [
    {
     "name": "stdout",
     "output_type": "stream",
     "text": [
      "www/team_sources.html\n"
     ]
    },
    {
     "data": {
      "text/html": [
       "\n",
       "        <iframe\n",
       "            width=\"100%\"\n",
       "            height=\"200px\"\n",
       "            src=\"www/team_sources.html\"\n",
       "            frameborder=\"0\"\n",
       "            allowfullscreen\n",
       "            \n",
       "        ></iframe>\n",
       "        "
      ],
      "text/plain": [
       "<IPython.lib.display.IFrame at 0x1d0797fb980>"
      ]
     },
     "execution_count": 22,
     "metadata": {},
     "output_type": "execute_result"
    }
   ],
   "source": [
    "visualize(team=team, coloring=\"sources\").show(\"www/team_sources.html\")"
   ]
  },
  {
   "cell_type": "markdown",
   "id": "69e8fc4c",
   "metadata": {},
   "source": [
    "### 1.2 Agent opinions\n",
    "Let us consider the opinions of the agents in this artificial team. As mentioned before, the color of the *agents* represents whether their **opinion** favours the <font color=\"forestgreen\">**correct**</font> or <font color=\"firebrick\">**incorrect**</font> alternative.\n",
    "\n",
    "Let's see how this goes in the simple team. Did anyone form the wrong opinion? Can you figure out why?"
   ]
  },
  {
   "cell_type": "code",
   "execution_count": 23,
   "id": "96db2e96",
   "metadata": {
    "tags": []
   },
   "outputs": [
    {
     "name": "stdout",
     "output_type": "stream",
     "text": [
      "www/team_agents.html\n"
     ]
    },
    {
     "data": {
      "text/html": [
       "\n",
       "        <iframe\n",
       "            width=\"100%\"\n",
       "            height=\"200px\"\n",
       "            src=\"www/team_agents.html\"\n",
       "            frameborder=\"0\"\n",
       "            allowfullscreen\n",
       "            \n",
       "        ></iframe>\n",
       "        "
      ],
      "text/plain": [
       "<IPython.lib.display.IFrame at 0x1d056c48170>"
      ]
     },
     "execution_count": 23,
     "metadata": {},
     "output_type": "execute_result"
    }
   ],
   "source": [
    "visualize(team=team, coloring=\"agents\").show(\"www/team_agents.html\")"
   ]
  },
  {
   "cell_type": "markdown",
   "id": "3957bf3a",
   "metadata": {},
   "source": [
    "### 1.3 The group decision\n",
    "The outcome is probably no surprise to you at this point, but let's determine the team's collective decision:"
   ]
  },
  {
   "cell_type": "code",
   "execution_count": 24,
   "id": "c671af81",
   "metadata": {
    "tags": []
   },
   "outputs": [
    {
     "name": "stdout",
     "output_type": "stream",
     "text": [
      "Correct: 7 | Incorrect: 2\n"
     ]
    }
   ],
   "source": [
    "correct_opinions = sum(\n",
    "    [1 for agent in team.members if agent.opinion == cfg.vote_for_positive]\n",
    ")\n",
    "incorrect_opinions = team.size - correct_opinions\n",
    "print(f\"Correct: {correct_opinions} | Incorrect: {incorrect_opinions}\")"
   ]
  },
  {
   "cell_type": "markdown",
   "id": "d467d175",
   "metadata": {},
   "source": [
    "## 2 Different teams\n",
    "In this repository we consider three types of teams:\n",
    "1. Teams consisting of the best-performing agents;\n",
    "2. Teams consisting of a (cognitively) diverse set of agents;\n",
    "3. Teams consisting of a randomly selected agents. \n",
    "\n",
    "As mentioned earlier, each agent is associated with a set of sources. We assume that all agents access the same number of sources, typically 5.\n",
    "\n",
    "Instead of investigating a particular team, these teams are constructed for a given set of sources and their reliabilities.  More precisely, the task for constructing the team of best-performing agents is as follows:\n",
    "\n",
    "> Input 1: A set of sources and their reliabilities.\n",
    ">\n",
    "> Input 2: A group size.\n",
    ">\n",
    "> Input 3: A number of sources that each agent accesses.\n",
    ">\n",
    "> ---\n",
    "> Output: The team of the required size consisting of the best-performing agents out of all possible agents.\n",
    "\n",
    "Once a team has been constructed, the team decision-making works as illustrated in Section 1. "
   ]
  },
  {
   "cell_type": "markdown",
   "id": "101a483c-2869-43bb-852f-319cfcb28a4a",
   "metadata": {},
   "source": [
    "### 2.1 The best team\n",
    "Below you can see what the best team may look like. Notice that the members of the best team only have access to a small number of sources, namely the sources with the highest reliability. "
   ]
  },
  {
   "cell_type": "code",
   "execution_count": 17,
   "id": "8d36a373-c2d9-4db1-8ff4-fa0a33c7a8bd",
   "metadata": {
    "tags": []
   },
   "outputs": [
    {
     "name": "stdout",
     "output_type": "stream",
     "text": [
      "www/expert_team.html\n"
     ]
    },
    {
     "data": {
      "text/html": [
       "\n",
       "        <iframe\n",
       "            width=\"100%\"\n",
       "            height=\"200px\"\n",
       "            src=\"www/expert_team.html\"\n",
       "            frameborder=\"0\"\n",
       "            allowfullscreen\n",
       "            \n",
       "        ></iframe>\n",
       "        "
      ],
      "text/plain": [
       "<IPython.lib.display.IFrame at 0x1d06525e600>"
      ]
     },
     "execution_count": 17,
     "metadata": {},
     "output_type": "execute_result"
    }
   ],
   "source": [
    "team = expert_team(sources=sources, heuristic_size=5, team_size=9)\n",
    "visualize(team).show(\"www/expert_team.html\")"
   ]
  },
  {
   "cell_type": "markdown",
   "id": "1f59f0c2-c1ec-4c39-a1fd-e64f27a51cc9",
   "metadata": {},
   "source": [
    "### 2.2 The diverse team\n",
    "Below you can see what the most diverse team might look like. Notice that the most diverse team has access to all (or virtually all) sources &mdash; regardless of their reliability."
   ]
  },
  {
   "cell_type": "code",
   "execution_count": 18,
   "id": "f06b31db-1923-4e57-9eff-33fd07e63fe4",
   "metadata": {
    "tags": []
   },
   "outputs": [
    {
     "name": "stdout",
     "output_type": "stream",
     "text": [
      "www/diverse_team.html\n"
     ]
    },
    {
     "data": {
      "text/html": [
       "\n",
       "        <iframe\n",
       "            width=\"100%\"\n",
       "            height=\"200px\"\n",
       "            src=\"www/diverse_team.html\"\n",
       "            frameborder=\"0\"\n",
       "            allowfullscreen\n",
       "            \n",
       "        ></iframe>\n",
       "        "
      ],
      "text/plain": [
       "<IPython.lib.display.IFrame at 0x1d0797aa720>"
      ]
     },
     "execution_count": 18,
     "metadata": {},
     "output_type": "execute_result"
    }
   ],
   "source": [
    "team = diverse_team(sources=sources, heuristic_size=5, team_size=7)\n",
    "visualize(team).show(\"www/diverse_team.html\")"
   ]
  },
  {
   "cell_type": "markdown",
   "id": "7f3de95d-47ba-4f4e-b4c1-0c198f0ccb16",
   "metadata": {},
   "source": [
    "### 2.3 A random team\n",
    "Below you can see what a random team might look like. Notice that a random team has access to many (but typically not all) sources &mdash; regardless of their reliability."
   ]
  },
  {
   "cell_type": "code",
   "execution_count": 19,
   "id": "35a24542-6e9a-4e3b-a63a-d20c9302281d",
   "metadata": {
    "tags": []
   },
   "outputs": [
    {
     "name": "stdout",
     "output_type": "stream",
     "text": [
      "www/random_team.html\n"
     ]
    },
    {
     "data": {
      "text/html": [
       "\n",
       "        <iframe\n",
       "            width=\"100%\"\n",
       "            height=\"200px\"\n",
       "            src=\"www/random_team.html\"\n",
       "            frameborder=\"0\"\n",
       "            allowfullscreen\n",
       "            \n",
       "        ></iframe>\n",
       "        "
      ],
      "text/plain": [
       "<IPython.lib.display.IFrame at 0x1d077eb0920>"
      ]
     },
     "execution_count": 19,
     "metadata": {},
     "output_type": "execute_result"
    }
   ],
   "source": [
    "team = random_team(sources=sources, heuristic_size=5, team_size=7)\n",
    "visualize(team).show(\"www/random_team.html\")"
   ]
  },
  {
   "cell_type": "markdown",
   "id": "9f631a77",
   "metadata": {},
   "source": [
    "## 3. Thanks\n",
    "I hope this brief illustration helped to understand the inner workings of the agent-based model. Thanks for showing interest!"
   ]
  }
 ],
 "metadata": {
  "kernelspec": {
   "display_name": "work",
   "language": "python",
   "name": "python3"
  },
  "language_info": {
   "codemirror_mode": {
    "name": "ipython",
    "version": 3
   },
   "file_extension": ".py",
   "mimetype": "text/x-python",
   "name": "python",
   "nbconvert_exporter": "python",
   "pygments_lexer": "ipython3",
   "version": "3.12.0"
  }
 },
 "nbformat": 4,
 "nbformat_minor": 5
}
