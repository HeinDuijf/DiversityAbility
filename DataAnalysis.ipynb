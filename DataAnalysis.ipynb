{
 "cells": [
  {
   "cell_type": "markdown",
   "id": "3d0434f0",
   "metadata": {},
   "source": [
    "# Diversity and Ability\n",
    "This notebook contains code to analyse the simulation data. "
   ]
  },
  {
   "cell_type": "markdown",
   "id": "9c913fb6",
   "metadata": {},
   "source": [
    "## Setup"
   ]
  },
  {
   "cell_type": "code",
   "execution_count": 2,
   "id": "a3d5ec3b",
   "metadata": {},
   "outputs": [],
   "source": [
    "import matplotlib.pyplot as plt\n",
    "import pandas as pd\n",
    "import seaborn as sns\n",
    "import os\n",
    "from models.team import Team\n",
    "from models.sources import Sources\n",
    "from models.agent import Agent\n",
    "import numpy as np\n",
    "from utils.basic_functions import powerset\n",
    "from models.determine_teams import diverse_team, expert_team\n",
    "from math import comb\n",
    "from scipy import stats\n",
    "from data_analysis.statistics import produce_df_1samp, produce_df\n",
    "from data_analysis.heatmap import visualize_heatmap"
   ]
  },
  {
   "cell_type": "markdown",
   "id": "6fee8d89",
   "metadata": {},
   "source": [
    "# Statistics and heatmaps\n",
    "(Note: inspired by [Python for Data Science](https://pythonfordatascienceorg.wordpress.com/paired-samples-t-test-python/) and [Towards Data Science](https://towardsdatascience.com/non-parametric-tests-in-hypothesis-testing-138d585c3548).)\n",
    "\n",
    "I think that the appropriate *non-parametric* statistical test is the Wilcoxon test ([Wikipedia](https://en.wikipedia.org/wiki/Wilcoxon_signed-rank_test)). When comparing the expert team to a set of diverse teams, we use the one-sample Wilcoxon test. When comparing the performance of the diverse team for different deliberative mechanisms, we use the paired Wilcoxon test. "
   ]
  },
  {
   "cell_type": "markdown",
   "id": "d4ccb2d4",
   "metadata": {},
   "source": [
    "## Results in tabular form"
   ]
  },
  {
   "cell_type": "code",
   "execution_count": 30,
   "id": "f2f846d4",
   "metadata": {},
   "outputs": [
    {
     "data": {
      "text/html": [
       "<div>\n",
       "<style scoped>\n",
       "    .dataframe tbody tr th:only-of-type {\n",
       "        vertical-align: middle;\n",
       "    }\n",
       "\n",
       "    .dataframe tbody tr th {\n",
       "        vertical-align: top;\n",
       "    }\n",
       "\n",
       "    .dataframe thead th {\n",
       "        text-align: right;\n",
       "    }\n",
       "</style>\n",
       "<table border=\"1\" class=\"dataframe\">\n",
       "  <thead>\n",
       "    <tr style=\"text-align: right;\">\n",
       "      <th></th>\n",
       "      <th>n_sources</th>\n",
       "      <th>rel_mean</th>\n",
       "      <th>pool_accuracy</th>\n",
       "      <th>std</th>\n",
       "    </tr>\n",
       "  </thead>\n",
       "  <tbody>\n",
       "    <tr>\n",
       "      <th>0</th>\n",
       "      <td>13</td>\n",
       "      <td>0.55</td>\n",
       "      <td>64.5</td>\n",
       "      <td>0.0</td>\n",
       "    </tr>\n",
       "    <tr>\n",
       "      <th>1</th>\n",
       "      <td>13</td>\n",
       "      <td>0.60</td>\n",
       "      <td>77.3</td>\n",
       "      <td>0.0</td>\n",
       "    </tr>\n",
       "    <tr>\n",
       "      <th>2</th>\n",
       "      <td>13</td>\n",
       "      <td>0.65</td>\n",
       "      <td>87.3</td>\n",
       "      <td>0.0</td>\n",
       "    </tr>\n",
       "    <tr>\n",
       "      <th>3</th>\n",
       "      <td>13</td>\n",
       "      <td>0.70</td>\n",
       "      <td>94.0</td>\n",
       "      <td>0.0</td>\n",
       "    </tr>\n",
       "    <tr>\n",
       "      <th>4</th>\n",
       "      <td>13</td>\n",
       "      <td>0.75</td>\n",
       "      <td>97.7</td>\n",
       "      <td>0.0</td>\n",
       "    </tr>\n",
       "    <tr>\n",
       "      <th>5</th>\n",
       "      <td>17</td>\n",
       "      <td>0.55</td>\n",
       "      <td>66.4</td>\n",
       "      <td>0.0</td>\n",
       "    </tr>\n",
       "    <tr>\n",
       "      <th>6</th>\n",
       "      <td>17</td>\n",
       "      <td>0.60</td>\n",
       "      <td>80.3</td>\n",
       "      <td>0.0</td>\n",
       "    </tr>\n",
       "    <tr>\n",
       "      <th>7</th>\n",
       "      <td>17</td>\n",
       "      <td>0.65</td>\n",
       "      <td>90.3</td>\n",
       "      <td>0.0</td>\n",
       "    </tr>\n",
       "    <tr>\n",
       "      <th>8</th>\n",
       "      <td>17</td>\n",
       "      <td>0.70</td>\n",
       "      <td>96.1</td>\n",
       "      <td>0.0</td>\n",
       "    </tr>\n",
       "    <tr>\n",
       "      <th>9</th>\n",
       "      <td>17</td>\n",
       "      <td>0.75</td>\n",
       "      <td>98.8</td>\n",
       "      <td>0.0</td>\n",
       "    </tr>\n",
       "  </tbody>\n",
       "</table>\n",
       "</div>"
      ],
      "text/plain": [
       "   n_sources  rel_mean  pool_accuracy  std\n",
       "0         13      0.55           64.5  0.0\n",
       "1         13      0.60           77.3  0.0\n",
       "2         13      0.65           87.3  0.0\n",
       "3         13      0.70           94.0  0.0\n",
       "4         13      0.75           97.7  0.0\n",
       "5         17      0.55           66.4  0.0\n",
       "6         17      0.60           80.3  0.0\n",
       "7         17      0.65           90.3  0.0\n",
       "8         17      0.70           96.1  0.0\n",
       "9         17      0.75           98.8  0.0"
      ]
     },
     "execution_count": 30,
     "metadata": {},
     "output_type": "execute_result"
    }
   ],
   "source": [
    "produce_df(outcome=\"pool_accuracy\", team_type=\"diverse\")"
   ]
  },
  {
   "cell_type": "code",
   "execution_count": 16,
   "id": "786307d1",
   "metadata": {},
   "outputs": [
    {
     "data": {
      "text/html": [
       "<div>\n",
       "<style scoped>\n",
       "    .dataframe tbody tr th:only-of-type {\n",
       "        vertical-align: middle;\n",
       "    }\n",
       "\n",
       "    .dataframe tbody tr th {\n",
       "        vertical-align: top;\n",
       "    }\n",
       "\n",
       "    .dataframe thead th {\n",
       "        text-align: right;\n",
       "    }\n",
       "</style>\n",
       "<table border=\"1\" class=\"dataframe\">\n",
       "  <thead>\n",
       "    <tr style=\"text-align: right;\">\n",
       "      <th></th>\n",
       "      <th>n_sources</th>\n",
       "      <th>rel_mean</th>\n",
       "      <th>p_value</th>\n",
       "      <th>statistic</th>\n",
       "      <th>difference</th>\n",
       "      <th>error_reduction</th>\n",
       "      <th>std</th>\n",
       "    </tr>\n",
       "  </thead>\n",
       "  <tbody>\n",
       "    <tr>\n",
       "      <th>0</th>\n",
       "      <td>13</td>\n",
       "      <td>0.55</td>\n",
       "      <td>0.0000</td>\n",
       "      <td>0.0</td>\n",
       "      <td>-0.08068</td>\n",
       "      <td>-29</td>\n",
       "      <td>0.007916</td>\n",
       "    </tr>\n",
       "    <tr>\n",
       "      <th>1</th>\n",
       "      <td>13</td>\n",
       "      <td>0.60</td>\n",
       "      <td>0.0000</td>\n",
       "      <td>0.0</td>\n",
       "      <td>-0.04316</td>\n",
       "      <td>-22</td>\n",
       "      <td>0.006814</td>\n",
       "    </tr>\n",
       "    <tr>\n",
       "      <th>2</th>\n",
       "      <td>13</td>\n",
       "      <td>0.65</td>\n",
       "      <td>0.0000</td>\n",
       "      <td>5.0</td>\n",
       "      <td>-0.01535</td>\n",
       "      <td>-12</td>\n",
       "      <td>0.005346</td>\n",
       "    </tr>\n",
       "    <tr>\n",
       "      <th>3</th>\n",
       "      <td>13</td>\n",
       "      <td>0.70</td>\n",
       "      <td>0.1626</td>\n",
       "      <td>24599385.0</td>\n",
       "      <td>0.00002</td>\n",
       "      <td>0</td>\n",
       "      <td>0.003635</td>\n",
       "    </tr>\n",
       "    <tr>\n",
       "      <th>4</th>\n",
       "      <td>13</td>\n",
       "      <td>0.75</td>\n",
       "      <td>0.0000</td>\n",
       "      <td>83001.0</td>\n",
       "      <td>0.00457</td>\n",
       "      <td>15</td>\n",
       "      <td>0.002091</td>\n",
       "    </tr>\n",
       "    <tr>\n",
       "      <th>5</th>\n",
       "      <td>17</td>\n",
       "      <td>0.55</td>\n",
       "      <td>0.0000</td>\n",
       "      <td>0.0</td>\n",
       "      <td>-0.08345</td>\n",
       "      <td>-32</td>\n",
       "      <td>0.008406</td>\n",
       "    </tr>\n",
       "    <tr>\n",
       "      <th>6</th>\n",
       "      <td>17</td>\n",
       "      <td>0.60</td>\n",
       "      <td>0.0000</td>\n",
       "      <td>0.0</td>\n",
       "      <td>-0.03320</td>\n",
       "      <td>-18</td>\n",
       "      <td>0.006797</td>\n",
       "    </tr>\n",
       "    <tr>\n",
       "      <th>7</th>\n",
       "      <td>17</td>\n",
       "      <td>0.65</td>\n",
       "      <td>0.0000</td>\n",
       "      <td>22503425.0</td>\n",
       "      <td>-0.00049</td>\n",
       "      <td>0</td>\n",
       "      <td>0.004878</td>\n",
       "    </tr>\n",
       "    <tr>\n",
       "      <th>8</th>\n",
       "      <td>17</td>\n",
       "      <td>0.70</td>\n",
       "      <td>0.0000</td>\n",
       "      <td>0.0</td>\n",
       "      <td>0.01266</td>\n",
       "      <td>25</td>\n",
       "      <td>0.002892</td>\n",
       "    </tr>\n",
       "    <tr>\n",
       "      <th>9</th>\n",
       "      <td>17</td>\n",
       "      <td>0.75</td>\n",
       "      <td>0.0000</td>\n",
       "      <td>0.0</td>\n",
       "      <td>0.01198</td>\n",
       "      <td>66</td>\n",
       "      <td>0.001399</td>\n",
       "    </tr>\n",
       "  </tbody>\n",
       "</table>\n",
       "</div>"
      ],
      "text/plain": [
       "   n_sources  rel_mean  p_value   statistic  difference  error_reduction  \\\n",
       "0         13      0.55   0.0000         0.0    -0.08068              -29   \n",
       "1         13      0.60   0.0000         0.0    -0.04316              -22   \n",
       "2         13      0.65   0.0000         5.0    -0.01535              -12   \n",
       "3         13      0.70   0.1626  24599385.0     0.00002                0   \n",
       "4         13      0.75   0.0000     83001.0     0.00457               15   \n",
       "5         17      0.55   0.0000         0.0    -0.08345              -32   \n",
       "6         17      0.60   0.0000         0.0    -0.03320              -18   \n",
       "7         17      0.65   0.0000  22503425.0    -0.00049                0   \n",
       "8         17      0.70   0.0000         0.0     0.01266               25   \n",
       "9         17      0.75   0.0000         0.0     0.01198               66   \n",
       "\n",
       "        std  \n",
       "0  0.007916  \n",
       "1  0.006814  \n",
       "2  0.005346  \n",
       "3  0.003635  \n",
       "4  0.002091  \n",
       "5  0.008406  \n",
       "6  0.006797  \n",
       "7  0.004878  \n",
       "8  0.002892  \n",
       "9  0.001399  "
      ]
     },
     "execution_count": 16,
     "metadata": {},
     "output_type": "execute_result"
    }
   ],
   "source": [
    "produce_df_1samp(\"accuracy\", n_decimals=5)\n"
   ]
  },
  {
   "cell_type": "code",
   "execution_count": 32,
   "id": "174ddf31",
   "metadata": {},
   "outputs": [
    {
     "data": {
      "text/html": [
       "<div>\n",
       "<style scoped>\n",
       "    .dataframe tbody tr th:only-of-type {\n",
       "        vertical-align: middle;\n",
       "    }\n",
       "\n",
       "    .dataframe tbody tr th {\n",
       "        vertical-align: top;\n",
       "    }\n",
       "\n",
       "    .dataframe thead th {\n",
       "        text-align: right;\n",
       "    }\n",
       "</style>\n",
       "<table border=\"1\" class=\"dataframe\">\n",
       "  <thead>\n",
       "    <tr style=\"text-align: right;\">\n",
       "      <th></th>\n",
       "      <th>n_sources</th>\n",
       "      <th>rel_mean</th>\n",
       "      <th>p_value</th>\n",
       "      <th>statistic</th>\n",
       "      <th>difference</th>\n",
       "      <th>error_reduction</th>\n",
       "      <th>std</th>\n",
       "    </tr>\n",
       "  </thead>\n",
       "  <tbody>\n",
       "    <tr>\n",
       "      <th>0</th>\n",
       "      <td>13</td>\n",
       "      <td>0.55</td>\n",
       "      <td>0</td>\n",
       "      <td>NaN</td>\n",
       "      <td>-0.054</td>\n",
       "      <td>-18</td>\n",
       "      <td>NaN</td>\n",
       "    </tr>\n",
       "    <tr>\n",
       "      <th>1</th>\n",
       "      <td>13</td>\n",
       "      <td>0.60</td>\n",
       "      <td>0</td>\n",
       "      <td>NaN</td>\n",
       "      <td>-0.027</td>\n",
       "      <td>-13</td>\n",
       "      <td>NaN</td>\n",
       "    </tr>\n",
       "    <tr>\n",
       "      <th>2</th>\n",
       "      <td>13</td>\n",
       "      <td>0.65</td>\n",
       "      <td>0</td>\n",
       "      <td>NaN</td>\n",
       "      <td>-0.008</td>\n",
       "      <td>-7</td>\n",
       "      <td>NaN</td>\n",
       "    </tr>\n",
       "    <tr>\n",
       "      <th>3</th>\n",
       "      <td>13</td>\n",
       "      <td>0.70</td>\n",
       "      <td>0</td>\n",
       "      <td>NaN</td>\n",
       "      <td>0.002</td>\n",
       "      <td>3</td>\n",
       "      <td>NaN</td>\n",
       "    </tr>\n",
       "    <tr>\n",
       "      <th>4</th>\n",
       "      <td>13</td>\n",
       "      <td>0.75</td>\n",
       "      <td>0</td>\n",
       "      <td>NaN</td>\n",
       "      <td>0.004</td>\n",
       "      <td>16</td>\n",
       "      <td>NaN</td>\n",
       "    </tr>\n",
       "    <tr>\n",
       "      <th>5</th>\n",
       "      <td>17</td>\n",
       "      <td>0.55</td>\n",
       "      <td>0</td>\n",
       "      <td>NaN</td>\n",
       "      <td>-0.070</td>\n",
       "      <td>-26</td>\n",
       "      <td>NaN</td>\n",
       "    </tr>\n",
       "    <tr>\n",
       "      <th>6</th>\n",
       "      <td>17</td>\n",
       "      <td>0.60</td>\n",
       "      <td>0</td>\n",
       "      <td>NaN</td>\n",
       "      <td>-0.026</td>\n",
       "      <td>-15</td>\n",
       "      <td>NaN</td>\n",
       "    </tr>\n",
       "    <tr>\n",
       "      <th>7</th>\n",
       "      <td>17</td>\n",
       "      <td>0.65</td>\n",
       "      <td>0</td>\n",
       "      <td>NaN</td>\n",
       "      <td>0.001</td>\n",
       "      <td>1</td>\n",
       "      <td>NaN</td>\n",
       "    </tr>\n",
       "    <tr>\n",
       "      <th>8</th>\n",
       "      <td>17</td>\n",
       "      <td>0.70</td>\n",
       "      <td>0</td>\n",
       "      <td>NaN</td>\n",
       "      <td>0.010</td>\n",
       "      <td>25</td>\n",
       "      <td>NaN</td>\n",
       "    </tr>\n",
       "    <tr>\n",
       "      <th>9</th>\n",
       "      <td>17</td>\n",
       "      <td>0.75</td>\n",
       "      <td>0</td>\n",
       "      <td>NaN</td>\n",
       "      <td>0.008</td>\n",
       "      <td>66</td>\n",
       "      <td>NaN</td>\n",
       "    </tr>\n",
       "  </tbody>\n",
       "</table>\n",
       "</div>"
      ],
      "text/plain": [
       "   n_sources  rel_mean  p_value  statistic  difference  error_reduction  std\n",
       "0         13      0.55        0        NaN      -0.054              -18  NaN\n",
       "1         13      0.60        0        NaN      -0.027              -13  NaN\n",
       "2         13      0.65        0        NaN      -0.008               -7  NaN\n",
       "3         13      0.70        0        NaN       0.002                3  NaN\n",
       "4         13      0.75        0        NaN       0.004               16  NaN\n",
       "5         17      0.55        0        NaN      -0.070              -26  NaN\n",
       "6         17      0.60        0        NaN      -0.026              -15  NaN\n",
       "7         17      0.65        0        NaN       0.001                1  NaN\n",
       "8         17      0.70        0        NaN       0.010               25  NaN\n",
       "9         17      0.75        0        NaN       0.008               66  NaN"
      ]
     },
     "execution_count": 32,
     "metadata": {},
     "output_type": "execute_result"
    }
   ],
   "source": [
    "produce_df_1samp(\"pool_accuracy\")"
   ]
  },
  {
   "cell_type": "code",
   "execution_count": 33,
   "id": "70a482cd",
   "metadata": {},
   "outputs": [
    {
     "data": {
      "text/html": [
       "<div>\n",
       "<style scoped>\n",
       "    .dataframe tbody tr th:only-of-type {\n",
       "        vertical-align: middle;\n",
       "    }\n",
       "\n",
       "    .dataframe tbody tr th {\n",
       "        vertical-align: top;\n",
       "    }\n",
       "\n",
       "    .dataframe thead th {\n",
       "        text-align: right;\n",
       "    }\n",
       "</style>\n",
       "<table border=\"1\" class=\"dataframe\">\n",
       "  <thead>\n",
       "    <tr style=\"text-align: right;\">\n",
       "      <th></th>\n",
       "      <th>n_sources</th>\n",
       "      <th>rel_mean</th>\n",
       "      <th>p_value</th>\n",
       "      <th>statistic</th>\n",
       "      <th>difference</th>\n",
       "      <th>error_reduction</th>\n",
       "      <th>std</th>\n",
       "    </tr>\n",
       "  </thead>\n",
       "  <tbody>\n",
       "    <tr>\n",
       "      <th>0</th>\n",
       "      <td>13</td>\n",
       "      <td>0.55</td>\n",
       "      <td>0.0</td>\n",
       "      <td>0.0</td>\n",
       "      <td>-0.074</td>\n",
       "      <td>-26</td>\n",
       "      <td>0.003263</td>\n",
       "    </tr>\n",
       "    <tr>\n",
       "      <th>1</th>\n",
       "      <td>13</td>\n",
       "      <td>0.60</td>\n",
       "      <td>0.0</td>\n",
       "      <td>0.0</td>\n",
       "      <td>-0.032</td>\n",
       "      <td>-16</td>\n",
       "      <td>0.002793</td>\n",
       "    </tr>\n",
       "    <tr>\n",
       "      <th>2</th>\n",
       "      <td>13</td>\n",
       "      <td>0.65</td>\n",
       "      <td>0.0</td>\n",
       "      <td>2653359.0</td>\n",
       "      <td>-0.002</td>\n",
       "      <td>-2</td>\n",
       "      <td>0.002153</td>\n",
       "    </tr>\n",
       "    <tr>\n",
       "      <th>3</th>\n",
       "      <td>13</td>\n",
       "      <td>0.70</td>\n",
       "      <td>0.0</td>\n",
       "      <td>0.0</td>\n",
       "      <td>0.011</td>\n",
       "      <td>17</td>\n",
       "      <td>0.001428</td>\n",
       "    </tr>\n",
       "    <tr>\n",
       "      <th>4</th>\n",
       "      <td>13</td>\n",
       "      <td>0.75</td>\n",
       "      <td>0.0</td>\n",
       "      <td>0.0</td>\n",
       "      <td>0.012</td>\n",
       "      <td>48</td>\n",
       "      <td>0.000805</td>\n",
       "    </tr>\n",
       "    <tr>\n",
       "      <th>5</th>\n",
       "      <td>17</td>\n",
       "      <td>0.55</td>\n",
       "      <td>0.0</td>\n",
       "      <td>0.0</td>\n",
       "      <td>-0.075</td>\n",
       "      <td>-28</td>\n",
       "      <td>0.007517</td>\n",
       "    </tr>\n",
       "    <tr>\n",
       "      <th>6</th>\n",
       "      <td>17</td>\n",
       "      <td>0.60</td>\n",
       "      <td>0.0</td>\n",
       "      <td>0.0</td>\n",
       "      <td>-0.019</td>\n",
       "      <td>-11</td>\n",
       "      <td>0.005960</td>\n",
       "    </tr>\n",
       "    <tr>\n",
       "      <th>7</th>\n",
       "      <td>17</td>\n",
       "      <td>0.65</td>\n",
       "      <td>0.0</td>\n",
       "      <td>94.0</td>\n",
       "      <td>0.013</td>\n",
       "      <td>13</td>\n",
       "      <td>0.004137</td>\n",
       "    </tr>\n",
       "    <tr>\n",
       "      <th>8</th>\n",
       "      <td>17</td>\n",
       "      <td>0.70</td>\n",
       "      <td>0.0</td>\n",
       "      <td>0.0</td>\n",
       "      <td>0.023</td>\n",
       "      <td>54</td>\n",
       "      <td>0.002329</td>\n",
       "    </tr>\n",
       "    <tr>\n",
       "      <th>9</th>\n",
       "      <td>17</td>\n",
       "      <td>0.75</td>\n",
       "      <td>0.0</td>\n",
       "      <td>0.0</td>\n",
       "      <td>0.017</td>\n",
       "      <td>132</td>\n",
       "      <td>0.001042</td>\n",
       "    </tr>\n",
       "  </tbody>\n",
       "</table>\n",
       "</div>"
      ],
      "text/plain": [
       "   n_sources  rel_mean  p_value  statistic  difference  error_reduction  \\\n",
       "0         13      0.55      0.0        0.0      -0.074              -26   \n",
       "1         13      0.60      0.0        0.0      -0.032              -16   \n",
       "2         13      0.65      0.0  2653359.0      -0.002               -2   \n",
       "3         13      0.70      0.0        0.0       0.011               17   \n",
       "4         13      0.75      0.0        0.0       0.012               48   \n",
       "5         17      0.55      0.0        0.0      -0.075              -28   \n",
       "6         17      0.60      0.0        0.0      -0.019              -11   \n",
       "7         17      0.65      0.0       94.0       0.013               13   \n",
       "8         17      0.70      0.0        0.0       0.023               54   \n",
       "9         17      0.75      0.0        0.0       0.017              132   \n",
       "\n",
       "        std  \n",
       "0  0.003263  \n",
       "1  0.002793  \n",
       "2  0.002153  \n",
       "3  0.001428  \n",
       "4  0.000805  \n",
       "5  0.007517  \n",
       "6  0.005960  \n",
       "7  0.004137  \n",
       "8  0.002329  \n",
       "9  0.001042  "
      ]
     },
     "execution_count": 33,
     "metadata": {},
     "output_type": "execute_result"
    }
   ],
   "source": [
    "produce_df_1samp(\"bounded_pool_accuracy\")"
   ]
  },
  {
   "cell_type": "markdown",
   "id": "dbcad9dc",
   "metadata": {},
   "source": [
    "## Heatmaps"
   ]
  },
  {
   "cell_type": "code",
   "execution_count": 34,
   "id": "75b0b239",
   "metadata": {},
   "outputs": [
    {
     "data": {
      "text/plain": [
       "<Axes: xlabel='Sources (#)', ylabel='Reliability (mean)'>"
      ]
     },
     "execution_count": 34,
     "metadata": {},
     "output_type": "execute_result"
    },
    {
     "data": {
      "image/png": "[encoded data removed]",
      "text/plain": [
       "<Figure size 200x400 with 2 Axes>"
      ]
     },
     "metadata": {},
     "output_type": "display_data"
    }
   ],
   "source": [
    "visualize_heatmap(outcome=\"accuracy\")"
   ]
  },
  {
   "cell_type": "code",
   "execution_count": 35,
   "id": "c47698d2",
   "metadata": {},
   "outputs": [
    {
     "data": {
      "text/plain": [
       "<Axes: xlabel='Sources (#)', ylabel='Reliability (mean)'>"
      ]
     },
     "execution_count": 35,
     "metadata": {},
     "output_type": "execute_result"
    },
    {
     "data": {
      "image/png": "[encoded data removed]",
      "text/plain": [
       "<Figure size 200x400 with 2 Axes>"
      ]
     },
     "metadata": {},
     "output_type": "display_data"
    }
   ],
   "source": [
    "visualize_heatmap(outcome=\"pool_accuracy\")"
   ]
  },
  {
   "cell_type": "code",
   "execution_count": 36,
   "id": "42f0af40",
   "metadata": {},
   "outputs": [
    {
     "data": {
      "text/plain": [
       "<Axes: xlabel='Sources (#)', ylabel='Reliability (mean)'>"
      ]
     },
     "execution_count": 36,
     "metadata": {},
     "output_type": "execute_result"
    },
    {
     "data": {
      "image/png": "[encoded data removed]",
      "text/plain": [
       "<Figure size 200x400 with 2 Axes>"
      ]
     },
     "metadata": {},
     "output_type": "display_data"
    }
   ],
   "source": [
    "visualize_heatmap(outcome=\"bounded_pool_accuracy\")"
   ]
  },
  {
   "cell_type": "code",
   "execution_count": 37,
   "id": "cbf06ef9",
   "metadata": {},
   "outputs": [
    {
     "data": {
      "text/plain": [
       "<Axes: xlabel='Sources (#)', ylabel='Reliability (mean)'>"
      ]
     },
     "execution_count": 37,
     "metadata": {},
     "output_type": "execute_result"
    },
    {
     "data": {
      "image/png": "[encoded data removed]",
      "text/plain": [
       "<Figure size 200x400 with 2 Axes>"
      ]
     },
     "metadata": {},
     "output_type": "display_data"
    }
   ],
   "source": [
    "visualize_heatmap(outcome=\"accuracy\", measure=\"relative\")"
   ]
  },
  {
   "cell_type": "code",
   "execution_count": 38,
   "id": "3d9cc3a8",
   "metadata": {},
   "outputs": [
    {
     "data": {
      "text/plain": [
       "<Axes: xlabel='Sources (#)', ylabel='Reliability (mean)'>"
      ]
     },
     "execution_count": 38,
     "metadata": {},
     "output_type": "execute_result"
    },
    {
     "data": {
      "image/png": "[encoded data removed]",
      "text/plain": [
       "<Figure size 200x400 with 2 Axes>"
      ]
     },
     "metadata": {},
     "output_type": "display_data"
    }
   ],
   "source": [
    "visualize_heatmap(outcome=\"pool_accuracy\", measure=\"relative\")"
   ]
  },
  {
   "cell_type": "code",
   "execution_count": 39,
   "id": "b4526696",
   "metadata": {},
   "outputs": [
    {
     "data": {
      "text/plain": [
       "<Axes: xlabel='Sources (#)', ylabel='Reliability (mean)'>"
      ]
     },
     "execution_count": 39,
     "metadata": {},
     "output_type": "execute_result"
    },
    {
     "data": {
      "image/png": "[encoded data removed]",
      "text/plain": [
       "<Figure size 200x400 with 2 Axes>"
      ]
     },
     "metadata": {},
     "output_type": "display_data"
    }
   ],
   "source": [
    "visualize_heatmap(outcome=\"bounded_pool_accuracy\", measure=\"relative\")"
   ]
  },
  {
   "cell_type": "code",
   "execution_count": 40,
   "id": "2ccabcf8",
   "metadata": {},
   "outputs": [
    {
     "data": {
      "text/plain": [
       "<Axes: xlabel='Sources (#)', ylabel='Reliability (mean)'>"
      ]
     },
     "execution_count": 40,
     "metadata": {},
     "output_type": "execute_result"
    },
    {
     "data": {
      "image/png": "[encoded data removed]",
      "text/plain": [
       "<Figure size 200x400 with 2 Axes>"
      ]
     },
     "metadata": {},
     "output_type": "display_data"
    }
   ],
   "source": [
    "visualize_heatmap(outcome=\"average\", measure=\"absolute\")"
   ]
  },
  {
   "cell_type": "markdown",
   "id": "89052f57",
   "metadata": {},
   "source": [
    "# Explanations for the results"
   ]
  },
  {
   "cell_type": "markdown",
   "id": "dcf06813",
   "metadata": {},
   "source": [
    "## Some examples"
   ]
  },
  {
   "cell_type": "markdown",
   "id": "4dcfdcce",
   "metadata": {},
   "source": [
    "Numerical example with a few highly reliable and the others are randomizers"
   ]
  },
  {
   "cell_type": "code",
   "execution_count": 41,
   "id": "c321d31c",
   "metadata": {},
   "outputs": [
    {
     "name": "stdout",
     "output_type": "stream",
     "text": [
      "Expert team accuracy: (0.9720000000000001, None)\n",
      "Diverse team accuracy: (0.7000000000000024, None)\n",
      "Expert team pool accuracy: 0.9720000000000001\n",
      "Diverse team pool accuracy: 0.7187500000000026\n",
      "Expert team bounded pool accuracy: 0.9720000000000001\n",
      "Diverse team bounded pool accuracy: 0.7187500000000026\n"
     ]
    }
   ],
   "source": [
    "sources = Sources(18)\n",
    "reliabilities = 0.50* np.ones(14) \n",
    "reliabilities = np.append(reliabilities, [0.9, 0.9, 0.9, 0.9])\n",
    "sources.reliabilities = reliabilities\n",
    "team_size = 3\n",
    "e_team = expert_team(sources, 3, team_size)\n",
    "d_team = diverse_team(sources, 3, team_size)\n",
    "print(f\"Expert team accuracy: {e_team.accuracy()}\")\n",
    "print(f\"Diverse team accuracy: {d_team.accuracy()}\")\n",
    "print(f\"Expert team pool accuracy: {e_team.pool_accuracy()}\")\n",
    "print(f\"Diverse team pool accuracy: {d_team.pool_accuracy()}\")\n",
    "print(f\"Expert team bounded pool accuracy: {e_team.bounded_pool_accuracy()}\")\n",
    "print(f\"Diverse team bounded pool accuracy: {d_team.bounded_pool_accuracy()}\")"
   ]
  },
  {
   "cell_type": "markdown",
   "id": "b65b4231",
   "metadata": {},
   "source": [
    "Numerical example where sources are approximately equally reliable."
   ]
  },
  {
   "cell_type": "code",
   "execution_count": 42,
   "id": "2bb0cb9e",
   "metadata": {},
   "outputs": [
    {
     "name": "stdout",
     "output_type": "stream",
     "text": [
      "Expert team accuracy: (0.6480000000000001, None)\n",
      "Diverse team accuracy: (0.7022684591826573, None)\n",
      "Expert team pool accuracy: 0.6480000000000001\n",
      "Diverse team pool accuracy: 0.7193546739401214\n",
      "Expert team bounded pool accuracy: 0.6480000000000001\n",
      "Diverse team bounded pool accuracy: 0.7193546739401214\n"
     ]
    }
   ],
   "source": [
    "sources = Sources(18)\n",
    "reliabilities = 0.59* np.ones(14) \n",
    "reliabilities = np.append(reliabilities, 0.6 * np.ones(4))\n",
    "sources.reliabilities = reliabilities\n",
    "team_size = 3\n",
    "e_team = expert_team(sources, 3, team_size)\n",
    "d_team = diverse_team(sources, 3, team_size)\n",
    "print(f\"Expert team accuracy: {e_team.accuracy()}\")\n",
    "print(f\"Diverse team accuracy: {d_team.accuracy()}\")\n",
    "print(f\"Expert team pool accuracy: {e_team.pool_accuracy()}\")\n",
    "print(f\"Diverse team pool accuracy: {d_team.pool_accuracy()}\")\n",
    "print(f\"Expert team bounded pool accuracy: {e_team.bounded_pool_accuracy()}\")\n",
    "print(f\"Diverse team bounded pool accuracy: {d_team.bounded_pool_accuracy()}\")"
   ]
  },
  {
   "cell_type": "markdown",
   "id": "94b89bfb",
   "metadata": {},
   "source": [
    "Defending the decision to consider reliability means of maximally 75%. Calculating the highest individual score for this setting. "
   ]
  },
  {
   "cell_type": "code",
   "execution_count": 43,
   "id": "e3ad78f3",
   "metadata": {},
   "outputs": [
    {
     "name": "stdout",
     "output_type": "stream",
     "text": [
      "Score: 0.962686004\n",
      "Score: 0.96154752\n",
      "Score: 0.9604090359999999\n",
      "Score: 0.9603541600000001\n",
      "Score: 0.959270552\n",
      "Score: 0.9591882379999999\n",
      "Score: 0.9591046400000001\n",
      "Score: 0.9581320680000001\n",
      "Score: 0.9580223160000001\n"
     ]
    }
   ],
   "source": [
    "sources = Sources(21, reliability_distribution=(\"equidist\", (0.65, 0.85)))\n",
    "e_team = expert_team(sources, 5, 9)\n",
    "\n",
    "for agent in e_team.members:\n",
    "    print(f\"Score: {agent.score}\")"
   ]
  },
  {
   "cell_type": "markdown",
   "id": "c52153ac",
   "metadata": {},
   "source": [
    "## Individual scores"
   ]
  },
  {
   "cell_type": "code",
   "execution_count": 19,
   "id": "27ddd947",
   "metadata": {},
   "outputs": [],
   "source": [
    "from figures_scripts.individual_scores import df_individual_scores, boxplot_individual_scores"
   ]
  },
  {
   "cell_type": "markdown",
   "id": "46328f43",
   "metadata": {},
   "source": [
    "A visualization of the distribution of individual scores of all possible heuristics"
   ]
  },
  {
   "cell_type": "code",
   "execution_count": null,
   "id": "c9e45c54",
   "metadata": {},
   "outputs": [
    {
     "name": "stdout",
     "output_type": "stream",
     "text": [
      "Difficulty: 0.8029616073566253\n",
      "Best agent: 0.8024929687499999\n",
      "Team size: 6188\n"
     ]
    },
    {
     "data": {
      "image/png": "[encoded data removed]",
      "text/plain": [
       "<Figure size 640x480 with 1 Axes>"
      ]
     },
     "metadata": {},
     "output_type": "display_data"
    }
   ],
   "source": [
    "from math import comb\n",
    "\n",
    "n_sources = 17\n",
    "sources = Sources(n_sources, reliability_distribution=(\"equidist\", (0.50, 0.70)))\n",
    "\n",
    "ranked_agents = expert_team(sources, 5, comb(n_sources, 5))\n",
    "\n",
    "scores = np.array([agent.score for agent in ranked_agents.members])\n",
    "fig = sns.histplot(scores, bins= 40, stat=\"percent\", cumulative=True, color=\"gray\")\n",
    "fig.set_xlabel(\"Individual Score\")\n",
    "\n",
    "print(f\"Difficulty: {sources.problem_difficulty()}\")\n",
    "best_agent = ranked_agents.members[0]\n",
    "print(f\"Best agent: {best_agent.score}\")\n",
    "print(f\"Team size: {ranked_agents.size}\")\n",
    "# print(f\"Team score: {ranked_agents.accuracy()}\")"
   ]
  },
  {
   "cell_type": "code",
   "execution_count": 46,
   "id": "ad14d0a6",
   "metadata": {},
   "outputs": [
    {
     "data": {
      "text/html": [
       "<div>\n",
       "<style scoped>\n",
       "    .dataframe tbody tr th:only-of-type {\n",
       "        vertical-align: middle;\n",
       "    }\n",
       "\n",
       "    .dataframe tbody tr th {\n",
       "        vertical-align: top;\n",
       "    }\n",
       "\n",
       "    .dataframe thead th {\n",
       "        text-align: right;\n",
       "    }\n",
       "</style>\n",
       "<table border=\"1\" class=\"dataframe\">\n",
       "  <thead>\n",
       "    <tr style=\"text-align: right;\">\n",
       "      <th></th>\n",
       "      <th>n_sources</th>\n",
       "      <th>rel_mean</th>\n",
       "      <th>mean</th>\n",
       "      <th>std</th>\n",
       "      <th>max</th>\n",
       "      <th>min</th>\n",
       "    </tr>\n",
       "  </thead>\n",
       "  <tbody>\n",
       "    <tr>\n",
       "      <th>0</th>\n",
       "      <td>13.0</td>\n",
       "      <td>0.55</td>\n",
       "      <td>0.593368</td>\n",
       "      <td>0.041962</td>\n",
       "      <td>0.711170</td>\n",
       "      <td>0.468738</td>\n",
       "    </tr>\n",
       "    <tr>\n",
       "      <th>1</th>\n",
       "      <td>13.0</td>\n",
       "      <td>0.60</td>\n",
       "      <td>0.683028</td>\n",
       "      <td>0.039469</td>\n",
       "      <td>0.790432</td>\n",
       "      <td>0.562384</td>\n",
       "    </tr>\n",
       "    <tr>\n",
       "      <th>2</th>\n",
       "      <td>13.0</td>\n",
       "      <td>0.65</td>\n",
       "      <td>0.765496</td>\n",
       "      <td>0.035485</td>\n",
       "      <td>0.858625</td>\n",
       "      <td>0.653550</td>\n",
       "    </tr>\n",
       "    <tr>\n",
       "      <th>3</th>\n",
       "      <td>13.0</td>\n",
       "      <td>0.70</td>\n",
       "      <td>0.837739</td>\n",
       "      <td>0.030266</td>\n",
       "      <td>0.913674</td>\n",
       "      <td>0.738659</td>\n",
       "    </tr>\n",
       "    <tr>\n",
       "      <th>4</th>\n",
       "      <td>13.0</td>\n",
       "      <td>0.75</td>\n",
       "      <td>0.897398</td>\n",
       "      <td>0.024171</td>\n",
       "      <td>0.954478</td>\n",
       "      <td>0.814513</td>\n",
       "    </tr>\n",
       "    <tr>\n",
       "      <th>5</th>\n",
       "      <td>17.0</td>\n",
       "      <td>0.55</td>\n",
       "      <td>0.593301</td>\n",
       "      <td>0.043674</td>\n",
       "      <td>0.724930</td>\n",
       "      <td>0.453174</td>\n",
       "    </tr>\n",
       "    <tr>\n",
       "      <th>6</th>\n",
       "      <td>17.0</td>\n",
       "      <td>0.60</td>\n",
       "      <td>0.682898</td>\n",
       "      <td>0.041081</td>\n",
       "      <td>0.802493</td>\n",
       "      <td>0.546826</td>\n",
       "    </tr>\n",
       "    <tr>\n",
       "      <th>7</th>\n",
       "      <td>17.0</td>\n",
       "      <td>0.65</td>\n",
       "      <td>0.765311</td>\n",
       "      <td>0.036937</td>\n",
       "      <td>0.868592</td>\n",
       "      <td>0.638616</td>\n",
       "    </tr>\n",
       "    <tr>\n",
       "      <th>8</th>\n",
       "      <td>17.0</td>\n",
       "      <td>0.70</td>\n",
       "      <td>0.837512</td>\n",
       "      <td>0.031510</td>\n",
       "      <td>0.921302</td>\n",
       "      <td>0.724930</td>\n",
       "    </tr>\n",
       "    <tr>\n",
       "      <th>9</th>\n",
       "      <td>17.0</td>\n",
       "      <td>0.75</td>\n",
       "      <td>0.897145</td>\n",
       "      <td>0.025172</td>\n",
       "      <td>0.959710</td>\n",
       "      <td>0.802493</td>\n",
       "    </tr>\n",
       "  </tbody>\n",
       "</table>\n",
       "</div>"
      ],
      "text/plain": [
       "   n_sources  rel_mean      mean       std       max       min\n",
       "0       13.0      0.55  0.593368  0.041962  0.711170  0.468738\n",
       "1       13.0      0.60  0.683028  0.039469  0.790432  0.562384\n",
       "2       13.0      0.65  0.765496  0.035485  0.858625  0.653550\n",
       "3       13.0      0.70  0.837739  0.030266  0.913674  0.738659\n",
       "4       13.0      0.75  0.897398  0.024171  0.954478  0.814513\n",
       "5       17.0      0.55  0.593301  0.043674  0.724930  0.453174\n",
       "6       17.0      0.60  0.682898  0.041081  0.802493  0.546826\n",
       "7       17.0      0.65  0.765311  0.036937  0.868592  0.638616\n",
       "8       17.0      0.70  0.837512  0.031510  0.921302  0.724930\n",
       "9       17.0      0.75  0.897145  0.025172  0.959710  0.802493"
      ]
     },
     "execution_count": 46,
     "metadata": {},
     "output_type": "execute_result"
    }
   ],
   "source": [
    "df_individual_scores()"
   ]
  },
  {
   "cell_type": "code",
   "execution_count": 20,
   "id": "bfc14d9e",
   "metadata": {},
   "outputs": [
    {
     "data": {
      "image/png": "[encoded data removed]",
      "text/plain": [
       "<Figure size 640x480 with 1 Axes>"
      ]
     },
     "metadata": {},
     "output_type": "display_data"
    }
   ],
   "source": [
    "boxplot_individual_scores()"
   ]
  },
  {
   "cell_type": "markdown",
   "id": "e9ea6df5",
   "metadata": {},
   "source": [
    "## Diversity and disagreement"
   ]
  },
  {
   "cell_type": "code",
   "execution_count": 48,
   "id": "ff9149d3",
   "metadata": {},
   "outputs": [],
   "source": [
    "from models.sources import Sources\n",
    "from models.agent import Agent\n",
    "from models.determine_teams import expert_team, diverse_team\n",
    "from math import comb\n",
    "import numpy as np\n",
    "import pandas as pd\n",
    "from utils.basic_functions import calculate_diversity, powerset\n",
    "import utils.config as cfg"
   ]
  },
  {
   "cell_type": "code",
   "execution_count": 49,
   "id": "7018acc8",
   "metadata": {},
   "outputs": [
    {
     "name": "stdout",
     "output_type": "stream",
     "text": [
      "Diversity gap for 13 sources 0.40555555555555556\n",
      "Diversity gap for 17 sources 0.5055555555555555\n"
     ]
    }
   ],
   "source": [
    "sources = Sources(13)\n",
    "e_team = expert_team(sources, 5, 9)\n",
    "d_team = diverse_team(sources, 5, 9)\n",
    "e_diversities = [calculate_diversity(a.heuristic, b.heuristic) for a in e_team.members for b in e_team.members]\n",
    "d_diversities = [calculate_diversity(a.heuristic, b.heuristic) for a in d_team.members for b in d_team.members]\n",
    "print(f\"Diversity gap for 13 sources {d_team.diversity() - e_team.diversity()}\")\n",
    "\n",
    "sources = Sources(17)\n",
    "e_team = expert_team(sources, 5, 9)\n",
    "d_team = diverse_team(sources, 5, 9)\n",
    "e_diversities = [calculate_diversity(a.heuristic, b.heuristic) for a in e_team.members for b in e_team.members]\n",
    "d_diversities = [calculate_diversity(a.heuristic, b.heuristic) for a in d_team.members for b in d_team.members]\n",
    "print(f\"Diversity gap for 17 sources {d_team.diversity() - e_team.diversity()}\")\n",
    "\n"
   ]
  },
  {
   "cell_type": "code",
   "execution_count": 50,
   "id": "89c38782",
   "metadata": {},
   "outputs": [],
   "source": [
    "def likelihood_disagreement(agent1: Agent, agent2: Agent):\n",
    "    sources = agent1.sources\n",
    "    p_disagreement: float = 0\n",
    "    sources_relevant = np.unique(agent1.heuristic + agent2.heuristic)\n",
    "    \n",
    "    for sources_positive in powerset(sources_relevant):\n",
    "        for source in sources.sources:\n",
    "            sources.set_valence(source, cfg.vote_for_negative)\n",
    "        for source in sources_positive:\n",
    "            sources.set_valence(source, cfg.vote_for_positive)\n",
    "        agent1.update_opinion()\n",
    "        agent2.update_opinion()\n",
    "        if agent1.opinion != agent2.opinion:\n",
    "            probabilities_list = [\n",
    "                sources.reliabilities[source] for source in sources_positive\n",
    "            ] + [\n",
    "                1 - sources.reliabilities[source]\n",
    "                for source in sources_relevant\n",
    "                if source not in sources_positive\n",
    "            ]\n",
    "            probability_subset = np.prod(probabilities_list)\n",
    "            p_disagreement += probability_subset            \n",
    "    return p_disagreement"
   ]
  },
  {
   "cell_type": "code",
   "execution_count": 51,
   "id": "373cc2ef",
   "metadata": {},
   "outputs": [],
   "source": [
    "def calculate_expert_disagreement(n_sources, rel_mean):\n",
    "    sources = Sources(n_sources, (\"equi\", (rel_mean - 0.1 , rel_mean + 0.1)))\n",
    "    e_team = expert_team(sources, 5, 9)\n",
    "    disagreements = [likelihood_disagreement(a, b) for a in e_team.members for b in e_team.members]\n",
    "    return max(disagreements)\n",
    "    "
   ]
  },
  {
   "cell_type": "code",
   "execution_count": 52,
   "id": "ad2aa3ec",
   "metadata": {},
   "outputs": [
    {
     "data": {
      "text/html": [
       "<div>\n",
       "<style scoped>\n",
       "    .dataframe tbody tr th:only-of-type {\n",
       "        vertical-align: middle;\n",
       "    }\n",
       "\n",
       "    .dataframe tbody tr th {\n",
       "        vertical-align: top;\n",
       "    }\n",
       "\n",
       "    .dataframe thead th {\n",
       "        text-align: right;\n",
       "    }\n",
       "</style>\n",
       "<table border=\"1\" class=\"dataframe\">\n",
       "  <thead>\n",
       "    <tr style=\"text-align: right;\">\n",
       "      <th></th>\n",
       "      <th>n_sources</th>\n",
       "      <th>rel_mean</th>\n",
       "      <th>disagreement_rate</th>\n",
       "    </tr>\n",
       "  </thead>\n",
       "  <tbody>\n",
       "    <tr>\n",
       "      <th>0</th>\n",
       "      <td>13</td>\n",
       "      <td>0.55</td>\n",
       "      <td>0.247400</td>\n",
       "    </tr>\n",
       "    <tr>\n",
       "      <th>1</th>\n",
       "      <td>13</td>\n",
       "      <td>0.60</td>\n",
       "      <td>0.210279</td>\n",
       "    </tr>\n",
       "    <tr>\n",
       "      <th>2</th>\n",
       "      <td>13</td>\n",
       "      <td>0.65</td>\n",
       "      <td>0.164766</td>\n",
       "    </tr>\n",
       "    <tr>\n",
       "      <th>3</th>\n",
       "      <td>13</td>\n",
       "      <td>0.70</td>\n",
       "      <td>0.116473</td>\n",
       "    </tr>\n",
       "    <tr>\n",
       "      <th>4</th>\n",
       "      <td>13</td>\n",
       "      <td>0.75</td>\n",
       "      <td>0.071405</td>\n",
       "    </tr>\n",
       "    <tr>\n",
       "      <th>5</th>\n",
       "      <td>17</td>\n",
       "      <td>0.55</td>\n",
       "      <td>0.239819</td>\n",
       "    </tr>\n",
       "    <tr>\n",
       "      <th>6</th>\n",
       "      <td>17</td>\n",
       "      <td>0.60</td>\n",
       "      <td>0.200227</td>\n",
       "    </tr>\n",
       "    <tr>\n",
       "      <th>7</th>\n",
       "      <td>17</td>\n",
       "      <td>0.65</td>\n",
       "      <td>0.153578</td>\n",
       "    </tr>\n",
       "    <tr>\n",
       "      <th>8</th>\n",
       "      <td>17</td>\n",
       "      <td>0.70</td>\n",
       "      <td>0.105629</td>\n",
       "    </tr>\n",
       "    <tr>\n",
       "      <th>9</th>\n",
       "      <td>17</td>\n",
       "      <td>0.75</td>\n",
       "      <td>0.062307</td>\n",
       "    </tr>\n",
       "  </tbody>\n",
       "</table>\n",
       "</div>"
      ],
      "text/plain": [
       "   n_sources  rel_mean  disagreement_rate\n",
       "0         13      0.55           0.247400\n",
       "1         13      0.60           0.210279\n",
       "2         13      0.65           0.164766\n",
       "3         13      0.70           0.116473\n",
       "4         13      0.75           0.071405\n",
       "5         17      0.55           0.239819\n",
       "6         17      0.60           0.200227\n",
       "7         17      0.65           0.153578\n",
       "8         17      0.70           0.105629\n",
       "9         17      0.75           0.062307"
      ]
     },
     "execution_count": 52,
     "metadata": {},
     "output_type": "execute_result"
    }
   ],
   "source": [
    "data = [\n",
    "    [n_sources, rel_mean, calculate_expert_disagreement(n_sources, rel_mean)]\n",
    "    for n_sources in [13, 17]\n",
    "    for rel_mean in 0.55 + 0.05 * np.arange(5)\n",
    "]\n",
    "df = pd.DataFrame(data, columns=[\"n_sources\", \"rel_mean\", \"disagreement_rate\"])\n",
    "df\n"
   ]
  },
  {
   "cell_type": "markdown",
   "id": "613e6475",
   "metadata": {},
   "source": [
    "## Expert team versus best-performing individual"
   ]
  },
  {
   "cell_type": "code",
   "execution_count": 53,
   "id": "bce309b3",
   "metadata": {},
   "outputs": [],
   "source": [
    "from data_analysis.expert_team_vs_individual import produce_df_expert_team_individual"
   ]
  },
  {
   "cell_type": "code",
   "execution_count": 54,
   "id": "3fc715b7",
   "metadata": {},
   "outputs": [
    {
     "data": {
      "text/html": [
       "<div>\n",
       "<style scoped>\n",
       "    .dataframe tbody tr th:only-of-type {\n",
       "        vertical-align: middle;\n",
       "    }\n",
       "\n",
       "    .dataframe tbody tr th {\n",
       "        vertical-align: top;\n",
       "    }\n",
       "\n",
       "    .dataframe thead th {\n",
       "        text-align: right;\n",
       "    }\n",
       "</style>\n",
       "<table border=\"1\" class=\"dataframe\">\n",
       "  <thead>\n",
       "    <tr style=\"text-align: right;\">\n",
       "      <th></th>\n",
       "      <th>n_sources</th>\n",
       "      <th>rel_mean</th>\n",
       "      <th>difference</th>\n",
       "      <th>error_reduction</th>\n",
       "    </tr>\n",
       "  </thead>\n",
       "  <tbody>\n",
       "    <tr>\n",
       "      <th>0</th>\n",
       "      <td>13</td>\n",
       "      <td>0.55</td>\n",
       "      <td>-0.007</td>\n",
       "      <td>-2</td>\n",
       "    </tr>\n",
       "    <tr>\n",
       "      <th>1</th>\n",
       "      <td>13</td>\n",
       "      <td>0.60</td>\n",
       "      <td>-0.013</td>\n",
       "      <td>-6</td>\n",
       "    </tr>\n",
       "    <tr>\n",
       "      <th>2</th>\n",
       "      <td>13</td>\n",
       "      <td>0.65</td>\n",
       "      <td>-0.015</td>\n",
       "      <td>-12</td>\n",
       "    </tr>\n",
       "    <tr>\n",
       "      <th>3</th>\n",
       "      <td>13</td>\n",
       "      <td>0.70</td>\n",
       "      <td>-0.014</td>\n",
       "      <td>-20</td>\n",
       "    </tr>\n",
       "    <tr>\n",
       "      <th>4</th>\n",
       "      <td>13</td>\n",
       "      <td>0.75</td>\n",
       "      <td>-0.011</td>\n",
       "      <td>-30</td>\n",
       "    </tr>\n",
       "    <tr>\n",
       "      <th>5</th>\n",
       "      <td>17</td>\n",
       "      <td>0.55</td>\n",
       "      <td>-0.011</td>\n",
       "      <td>-4</td>\n",
       "    </tr>\n",
       "    <tr>\n",
       "      <th>6</th>\n",
       "      <td>17</td>\n",
       "      <td>0.60</td>\n",
       "      <td>-0.016</td>\n",
       "      <td>-9</td>\n",
       "    </tr>\n",
       "    <tr>\n",
       "      <th>7</th>\n",
       "      <td>17</td>\n",
       "      <td>0.65</td>\n",
       "      <td>-0.017</td>\n",
       "      <td>-15</td>\n",
       "    </tr>\n",
       "    <tr>\n",
       "      <th>8</th>\n",
       "      <td>17</td>\n",
       "      <td>0.70</td>\n",
       "      <td>-0.015</td>\n",
       "      <td>-23</td>\n",
       "    </tr>\n",
       "    <tr>\n",
       "      <th>9</th>\n",
       "      <td>17</td>\n",
       "      <td>0.75</td>\n",
       "      <td>-0.010</td>\n",
       "      <td>-34</td>\n",
       "    </tr>\n",
       "  </tbody>\n",
       "</table>\n",
       "</div>"
      ],
      "text/plain": [
       "   n_sources  rel_mean  difference  error_reduction\n",
       "0         13      0.55      -0.007               -2\n",
       "1         13      0.60      -0.013               -6\n",
       "2         13      0.65      -0.015              -12\n",
       "3         13      0.70      -0.014              -20\n",
       "4         13      0.75      -0.011              -30\n",
       "5         17      0.55      -0.011               -4\n",
       "6         17      0.60      -0.016               -9\n",
       "7         17      0.65      -0.017              -15\n",
       "8         17      0.70      -0.015              -23\n",
       "9         17      0.75      -0.010              -34"
      ]
     },
     "execution_count": 54,
     "metadata": {},
     "output_type": "execute_result"
    }
   ],
   "source": [
    "produce_df_expert_team_individual(outcome=\"accuracy\")"
   ]
  },
  {
   "cell_type": "code",
   "execution_count": 55,
   "id": "8a511957",
   "metadata": {},
   "outputs": [
    {
     "data": {
      "text/html": [
       "<div>\n",
       "<style scoped>\n",
       "    .dataframe tbody tr th:only-of-type {\n",
       "        vertical-align: middle;\n",
       "    }\n",
       "\n",
       "    .dataframe tbody tr th {\n",
       "        vertical-align: top;\n",
       "    }\n",
       "\n",
       "    .dataframe thead th {\n",
       "        text-align: right;\n",
       "    }\n",
       "</style>\n",
       "<table border=\"1\" class=\"dataframe\">\n",
       "  <thead>\n",
       "    <tr style=\"text-align: right;\">\n",
       "      <th></th>\n",
       "      <th>n_sources</th>\n",
       "      <th>rel_mean</th>\n",
       "      <th>difference</th>\n",
       "      <th>error_reduction</th>\n",
       "    </tr>\n",
       "  </thead>\n",
       "  <tbody>\n",
       "    <tr>\n",
       "      <th>0</th>\n",
       "      <td>13</td>\n",
       "      <td>0.55</td>\n",
       "      <td>-0.007</td>\n",
       "      <td>-2</td>\n",
       "    </tr>\n",
       "    <tr>\n",
       "      <th>1</th>\n",
       "      <td>13</td>\n",
       "      <td>0.60</td>\n",
       "      <td>-0.012</td>\n",
       "      <td>-6</td>\n",
       "    </tr>\n",
       "    <tr>\n",
       "      <th>2</th>\n",
       "      <td>13</td>\n",
       "      <td>0.65</td>\n",
       "      <td>-0.015</td>\n",
       "      <td>-12</td>\n",
       "    </tr>\n",
       "    <tr>\n",
       "      <th>3</th>\n",
       "      <td>13</td>\n",
       "      <td>0.70</td>\n",
       "      <td>-0.014</td>\n",
       "      <td>-19</td>\n",
       "    </tr>\n",
       "    <tr>\n",
       "      <th>4</th>\n",
       "      <td>13</td>\n",
       "      <td>0.75</td>\n",
       "      <td>-0.010</td>\n",
       "      <td>-29</td>\n",
       "    </tr>\n",
       "    <tr>\n",
       "      <th>5</th>\n",
       "      <td>17</td>\n",
       "      <td>0.55</td>\n",
       "      <td>-0.011</td>\n",
       "      <td>-4</td>\n",
       "    </tr>\n",
       "    <tr>\n",
       "      <th>6</th>\n",
       "      <td>17</td>\n",
       "      <td>0.60</td>\n",
       "      <td>-0.015</td>\n",
       "      <td>-8</td>\n",
       "    </tr>\n",
       "    <tr>\n",
       "      <th>7</th>\n",
       "      <td>17</td>\n",
       "      <td>0.65</td>\n",
       "      <td>-0.016</td>\n",
       "      <td>-14</td>\n",
       "    </tr>\n",
       "    <tr>\n",
       "      <th>8</th>\n",
       "      <td>17</td>\n",
       "      <td>0.70</td>\n",
       "      <td>-0.014</td>\n",
       "      <td>-22</td>\n",
       "    </tr>\n",
       "    <tr>\n",
       "      <th>9</th>\n",
       "      <td>17</td>\n",
       "      <td>0.75</td>\n",
       "      <td>-0.010</td>\n",
       "      <td>-32</td>\n",
       "    </tr>\n",
       "  </tbody>\n",
       "</table>\n",
       "</div>"
      ],
      "text/plain": [
       "   n_sources  rel_mean  difference  error_reduction\n",
       "0         13      0.55      -0.007               -2\n",
       "1         13      0.60      -0.012               -6\n",
       "2         13      0.65      -0.015              -12\n",
       "3         13      0.70      -0.014              -19\n",
       "4         13      0.75      -0.010              -29\n",
       "5         17      0.55      -0.011               -4\n",
       "6         17      0.60      -0.015               -8\n",
       "7         17      0.65      -0.016              -14\n",
       "8         17      0.70      -0.014              -22\n",
       "9         17      0.75      -0.010              -32"
      ]
     },
     "execution_count": 55,
     "metadata": {},
     "output_type": "execute_result"
    }
   ],
   "source": [
    "produce_df_expert_team_individual(outcome=\"bounded_pool_accuracy\")"
   ]
  },
  {
   "cell_type": "markdown",
   "id": "b0c57389",
   "metadata": {},
   "source": [
    "## Overcounting: Boundedly rational evidence-based dynamics"
   ]
  },
  {
   "cell_type": "code",
   "execution_count": 56,
   "id": "ecd0ce96",
   "metadata": {},
   "outputs": [
    {
     "data": {
      "text/plain": [
       "{8: 1, 9: 2, 10: 2, 11: 3, 12: 5, 13: 6, 14: 8, 15: 9, 16: 9}"
      ]
     },
     "execution_count": 56,
     "metadata": {},
     "output_type": "execute_result"
    }
   ],
   "source": [
    "from models.determine_teams import expert_team, diverse_team\n",
    "\n",
    "sources = Sources(17)\n",
    "e_team = expert_team(sources, 5, 9)\n",
    "\n",
    "expert_coverage, expert_weights = np.unique([agent.heuristic for agent in e_team.members], return_counts=True)\n",
    "dict(zip(expert_coverage, expert_weights))\n"
   ]
  },
  {
   "cell_type": "code",
   "execution_count": 57,
   "id": "17be2cad",
   "metadata": {},
   "outputs": [
    {
     "data": {
      "text/plain": [
       "{0: 2,\n",
       " 1: 3,\n",
       " 2: 2,\n",
       " 3: 2,\n",
       " 4: 3,\n",
       " 5: 2,\n",
       " 6: 2,\n",
       " 7: 3,\n",
       " 8: 3,\n",
       " 9: 2,\n",
       " 10: 3,\n",
       " 11: 3,\n",
       " 12: 3,\n",
       " 13: 3,\n",
       " 14: 3,\n",
       " 15: 3,\n",
       " 16: 3}"
      ]
     },
     "execution_count": 57,
     "metadata": {},
     "output_type": "execute_result"
    }
   ],
   "source": [
    "d_team = diverse_team(sources, 5, 9)\n",
    "\n",
    "coverage, weights = np.unique([agent.heuristic for agent in d_team.members], return_counts=True)\n",
    "dict(zip(coverage, weights))\n",
    "\n",
    "# for k in a:\n",
    "#     print(k)"
   ]
  }
 ],
 "metadata": {
  "kernelspec": {
   "display_name": "work",
   "language": "python",
   "name": "python3"
  },
  "language_info": {
   "codemirror_mode": {
    "name": "ipython",
    "version": 3
   },
   "file_extension": ".py",
   "mimetype": "text/x-python",
   "name": "python",
   "nbconvert_exporter": "python",
   "pygments_lexer": "ipython3",
   "version": "3.12.0"
  }
 },
 "nbformat": 4,
 "nbformat_minor": 5
}
